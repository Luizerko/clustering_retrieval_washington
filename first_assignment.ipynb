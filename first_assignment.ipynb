{
 "cells": [
  {
   "cell_type": "code",
   "execution_count": 1,
   "metadata": {},
   "outputs": [],
   "source": [
    "import pandas as pd\n",
    "import matplotlib.pyplot as plt\n",
    "import seaborn as sns\n",
    "import numpy as np\n",
    "import json\n",
    "from scipy.sparse import csr_matrix"
   ]
  },
  {
   "cell_type": "code",
   "execution_count": 2,
   "metadata": {},
   "outputs": [
    {
     "data": {
      "text/html": [
       "<div>\n",
       "<style scoped>\n",
       "    .dataframe tbody tr th:only-of-type {\n",
       "        vertical-align: middle;\n",
       "    }\n",
       "\n",
       "    .dataframe tbody tr th {\n",
       "        vertical-align: top;\n",
       "    }\n",
       "\n",
       "    .dataframe thead th {\n",
       "        text-align: right;\n",
       "    }\n",
       "</style>\n",
       "<table border=\"1\" class=\"dataframe\">\n",
       "  <thead>\n",
       "    <tr style=\"text-align: right;\">\n",
       "      <th></th>\n",
       "      <th>URI</th>\n",
       "      <th>name</th>\n",
       "      <th>text</th>\n",
       "    </tr>\n",
       "  </thead>\n",
       "  <tbody>\n",
       "    <tr>\n",
       "      <th>0</th>\n",
       "      <td>&lt;http://dbpedia.org/resource/Digby_Morrell&gt;</td>\n",
       "      <td>Digby Morrell</td>\n",
       "      <td>digby morrell born 10 october 1979 is a former...</td>\n",
       "    </tr>\n",
       "    <tr>\n",
       "      <th>1</th>\n",
       "      <td>&lt;http://dbpedia.org/resource/Alfred_J._Lewy&gt;</td>\n",
       "      <td>Alfred J. Lewy</td>\n",
       "      <td>alfred j lewy aka sandy lewy graduated from un...</td>\n",
       "    </tr>\n",
       "    <tr>\n",
       "      <th>2</th>\n",
       "      <td>&lt;http://dbpedia.org/resource/Harpdog_Brown&gt;</td>\n",
       "      <td>Harpdog Brown</td>\n",
       "      <td>harpdog brown is a singer and harmonica player...</td>\n",
       "    </tr>\n",
       "  </tbody>\n",
       "</table>\n",
       "</div>"
      ],
      "text/plain": [
       "                                            URI            name  \\\n",
       "0   <http://dbpedia.org/resource/Digby_Morrell>   Digby Morrell   \n",
       "1  <http://dbpedia.org/resource/Alfred_J._Lewy>  Alfred J. Lewy   \n",
       "2   <http://dbpedia.org/resource/Harpdog_Brown>   Harpdog Brown   \n",
       "\n",
       "                                                text  \n",
       "0  digby morrell born 10 october 1979 is a former...  \n",
       "1  alfred j lewy aka sandy lewy graduated from un...  \n",
       "2  harpdog brown is a singer and harmonica player...  "
      ]
     },
     "execution_count": 2,
     "metadata": {},
     "output_type": "execute_result"
    }
   ],
   "source": [
    "wiki = pd.read_csv('people_wiki.csv')\n",
    "wiki.head(3)"
   ]
  },
  {
   "cell_type": "code",
   "execution_count": 3,
   "metadata": {},
   "outputs": [
    {
     "data": {
      "text/html": [
       "<div>\n",
       "<style scoped>\n",
       "    .dataframe tbody tr th:only-of-type {\n",
       "        vertical-align: middle;\n",
       "    }\n",
       "\n",
       "    .dataframe tbody tr th {\n",
       "        vertical-align: top;\n",
       "    }\n",
       "\n",
       "    .dataframe thead th {\n",
       "        text-align: right;\n",
       "    }\n",
       "</style>\n",
       "<table border=\"1\" class=\"dataframe\">\n",
       "  <thead>\n",
       "    <tr style=\"text-align: right;\">\n",
       "      <th></th>\n",
       "      <th>URI</th>\n",
       "      <th>name</th>\n",
       "      <th>text</th>\n",
       "    </tr>\n",
       "  </thead>\n",
       "  <tbody>\n",
       "    <tr>\n",
       "      <th>count</th>\n",
       "      <td>59071</td>\n",
       "      <td>59071</td>\n",
       "      <td>59071</td>\n",
       "    </tr>\n",
       "    <tr>\n",
       "      <th>unique</th>\n",
       "      <td>59071</td>\n",
       "      <td>59070</td>\n",
       "      <td>59071</td>\n",
       "    </tr>\n",
       "    <tr>\n",
       "      <th>top</th>\n",
       "      <td>&lt;http://dbpedia.org/resource/Tammy_Rae_Carland&gt;</td>\n",
       "      <td>author)</td>\n",
       "      <td>dylan mika born 17 april 1972 in auckland is a...</td>\n",
       "    </tr>\n",
       "    <tr>\n",
       "      <th>freq</th>\n",
       "      <td>1</td>\n",
       "      <td>2</td>\n",
       "      <td>1</td>\n",
       "    </tr>\n",
       "  </tbody>\n",
       "</table>\n",
       "</div>"
      ],
      "text/plain": [
       "                                                    URI     name  \\\n",
       "count                                             59071    59071   \n",
       "unique                                            59071    59070   \n",
       "top     <http://dbpedia.org/resource/Tammy_Rae_Carland>  author)   \n",
       "freq                                                  1        2   \n",
       "\n",
       "                                                     text  \n",
       "count                                               59071  \n",
       "unique                                              59071  \n",
       "top     dylan mika born 17 april 1972 in auckland is a...  \n",
       "freq                                                    1  "
      ]
     },
     "execution_count": 3,
     "metadata": {},
     "output_type": "execute_result"
    }
   ],
   "source": [
    "wiki.describe()"
   ]
  },
  {
   "cell_type": "code",
   "execution_count": 4,
   "metadata": {},
   "outputs": [],
   "source": [
    "def load_sparse_csr(filename):\n",
    "    loader = np.load(filename)\n",
    "    data = loader['data']\n",
    "    indices = loader['indices']\n",
    "    indptr = loader['indptr']\n",
    "    shape = loader['shape']\n",
    "    \n",
    "    return csr_matrix( (data, indices, indptr), shape)"
   ]
  },
  {
   "cell_type": "code",
   "execution_count": 5,
   "metadata": {},
   "outputs": [
    {
     "data": {
      "text/plain": [
       "<59071x547979 sparse matrix of type '<class 'numpy.int64'>'\n",
       "\twith 10379283 stored elements in Compressed Sparse Row format>"
      ]
     },
     "execution_count": 5,
     "metadata": {},
     "output_type": "execute_result"
    }
   ],
   "source": [
    "word_count = load_sparse_csr('people_wiki_word_count.npz')\n",
    "word_count"
   ]
  },
  {
   "cell_type": "code",
   "execution_count": 6,
   "metadata": {},
   "outputs": [
    {
     "data": {
      "text/plain": [
       "547979"
      ]
     },
     "execution_count": 6,
     "metadata": {},
     "output_type": "execute_result"
    }
   ],
   "source": [
    "with open('people_wiki_map_index_to_word.json') as people_wiki_map_index_to_word:    \n",
    "    map_index_to_word = json.load(people_wiki_map_index_to_word)\n",
    "len(map_index_to_word)"
   ]
  },
  {
   "cell_type": "code",
   "execution_count": 7,
   "metadata": {},
   "outputs": [],
   "source": [
    "from sklearn.neighbors import NearestNeighbors"
   ]
  },
  {
   "cell_type": "code",
   "execution_count": 8,
   "metadata": {},
   "outputs": [
    {
     "data": {
      "text/plain": [
       "NearestNeighbors(algorithm='brute', metric='euclidean')"
      ]
     },
     "execution_count": 8,
     "metadata": {},
     "output_type": "execute_result"
    }
   ],
   "source": [
    "model = NearestNeighbors(metric='euclidean', algorithm='brute')\n",
    "model.fit(word_count)"
   ]
  },
  {
   "cell_type": "code",
   "execution_count": 9,
   "metadata": {},
   "outputs": [
    {
     "name": "stdout",
     "output_type": "stream",
     "text": [
      "35817\n"
     ]
    }
   ],
   "source": [
    "print(wiki[wiki['name'] == 'Barack Obama'].index[0])"
   ]
  },
  {
   "cell_type": "code",
   "execution_count": 10,
   "metadata": {},
   "outputs": [
    {
     "name": "stdout",
     "output_type": "stream",
     "text": [
      "[[ 0.         33.07567082 34.39476704 36.15245497 36.16628264 36.33180425\n",
      "  36.40054945 36.49657518 36.63331817 36.95943723]]\n",
      "[[35817 24478 28447 35357 14754 13229 31423 22745 36364  9210]]\n"
     ]
    }
   ],
   "source": [
    "distances, indices = model.kneighbors(word_count[35817], n_neighbors=10)\n",
    "print(distances)\n",
    "print(indices)"
   ]
  },
  {
   "cell_type": "code",
   "execution_count": 11,
   "metadata": {},
   "outputs": [
    {
     "name": "stdout",
     "output_type": "stream",
     "text": [
      "ID     Name     Distance\n",
      "35817  Barack Obama  0.0\n",
      "24478  Joe Biden  33.075670817082454\n",
      "28447  George W. Bush  34.39476704383968\n",
      "35357  Lawrence Summers  36.15245496505044\n",
      "14754  Mitt Romney  36.16628264005025\n",
      "13229  Francisco Barrio  36.3318042491699\n",
      "31423  Walter Mondale  36.40054944640259\n",
      "22745  Wynn Normington Hugh-Jones  36.49657518178932\n",
      "36364  Don Bonker  36.6333181680284\n",
      "9210  Andy Anstett  36.959437225152655\n"
     ]
    }
   ],
   "source": [
    "print('ID     Name     Distance')\n",
    "for i in range(10):\n",
    "    print(str(indices[0][i]) + '  ' + str(wiki.loc[indices[0][i], 'name']) + '  ' + str(distances[0][i]))"
   ]
  },
  {
   "cell_type": "code",
   "execution_count": 12,
   "metadata": {},
   "outputs": [
    {
     "name": "stdout",
     "output_type": "stream",
     "text": [
      "                             name   distance\n",
      "35817                Barack Obama   0.000000\n",
      "24478                   Joe Biden  33.075671\n",
      "28447              George W. Bush  34.394767\n",
      "35357            Lawrence Summers  36.152455\n",
      "14754                 Mitt Romney  36.166283\n",
      "13229            Francisco Barrio  36.331804\n",
      "31423              Walter Mondale  36.400549\n",
      "22745  Wynn Normington Hugh-Jones  36.496575\n",
      "36364                  Don Bonker  36.633318\n",
      "9210                 Andy Anstett  36.959437\n"
     ]
    }
   ],
   "source": [
    "neighbors = pd.DataFrame(data={'distance':distances.flatten()},index=indices.flatten())\n",
    "print(wiki.join(neighbors).sort_values(by='distance')[['name','distance']][0:10])"
   ]
  },
  {
   "cell_type": "code",
   "execution_count": 13,
   "metadata": {},
   "outputs": [],
   "source": [
    "from past.builtins import xrange"
   ]
  },
  {
   "cell_type": "code",
   "execution_count": 14,
   "metadata": {},
   "outputs": [],
   "source": [
    "def unpack_dict(matrix, map_index_to_word):\n",
    "    #table = list(map_index_to_word.sort('index')['category'])\n",
    "    # if you're not using SFrame, replace this line with\n",
    "    table = sorted(map_index_to_word, key=map_index_to_word.get)\n",
    "    \n",
    "    \n",
    "    data = matrix.data\n",
    "    indices = matrix.indices\n",
    "    indptr = matrix.indptr\n",
    "    \n",
    "    num_doc = matrix.shape[0]\n",
    "\n",
    "    return [{k:v for k,v in zip([table[word_id] for word_id in indices[indptr[i]:indptr[i+1]] ],\n",
    "                                 data[indptr[i]:indptr[i+1]].tolist())} \\\n",
    "               for i in xrange(num_doc) ]\n",
    "\n",
    "wiki['word_count'] = unpack_dict(word_count, map_index_to_word)"
   ]
  },
  {
   "cell_type": "code",
   "execution_count": 15,
   "metadata": {},
   "outputs": [
    {
     "data": {
      "text/html": [
       "<div>\n",
       "<style scoped>\n",
       "    .dataframe tbody tr th:only-of-type {\n",
       "        vertical-align: middle;\n",
       "    }\n",
       "\n",
       "    .dataframe tbody tr th {\n",
       "        vertical-align: top;\n",
       "    }\n",
       "\n",
       "    .dataframe thead th {\n",
       "        text-align: right;\n",
       "    }\n",
       "</style>\n",
       "<table border=\"1\" class=\"dataframe\">\n",
       "  <thead>\n",
       "    <tr style=\"text-align: right;\">\n",
       "      <th></th>\n",
       "      <th>URI</th>\n",
       "      <th>name</th>\n",
       "      <th>text</th>\n",
       "      <th>word_count</th>\n",
       "    </tr>\n",
       "  </thead>\n",
       "  <tbody>\n",
       "    <tr>\n",
       "      <th>0</th>\n",
       "      <td>&lt;http://dbpedia.org/resource/Digby_Morrell&gt;</td>\n",
       "      <td>Digby Morrell</td>\n",
       "      <td>digby morrell born 10 october 1979 is a former...</td>\n",
       "      <td>{'brisbaneafter': 1, 'edflhe': 1, 'aflfrom': 1...</td>\n",
       "    </tr>\n",
       "    <tr>\n",
       "      <th>1</th>\n",
       "      <td>&lt;http://dbpedia.org/resource/Alfred_J._Lewy&gt;</td>\n",
       "      <td>Alfred J. Lewy</td>\n",
       "      <td>alfred j lewy aka sandy lewy graduated from un...</td>\n",
       "      <td>{'maladaptation': 1, 'phasedelay': 1, '25hour'...</td>\n",
       "    </tr>\n",
       "    <tr>\n",
       "      <th>2</th>\n",
       "      <td>&lt;http://dbpedia.org/resource/Harpdog_Brown&gt;</td>\n",
       "      <td>Harpdog Brown</td>\n",
       "      <td>harpdog brown is a singer and harmonica player...</td>\n",
       "      <td>{'germanyover': 1, 'bluesgospel': 1, 'harpdog'...</td>\n",
       "    </tr>\n",
       "  </tbody>\n",
       "</table>\n",
       "</div>"
      ],
      "text/plain": [
       "                                            URI            name  \\\n",
       "0   <http://dbpedia.org/resource/Digby_Morrell>   Digby Morrell   \n",
       "1  <http://dbpedia.org/resource/Alfred_J._Lewy>  Alfred J. Lewy   \n",
       "2   <http://dbpedia.org/resource/Harpdog_Brown>   Harpdog Brown   \n",
       "\n",
       "                                                text  \\\n",
       "0  digby morrell born 10 october 1979 is a former...   \n",
       "1  alfred j lewy aka sandy lewy graduated from un...   \n",
       "2  harpdog brown is a singer and harmonica player...   \n",
       "\n",
       "                                          word_count  \n",
       "0  {'brisbaneafter': 1, 'edflhe': 1, 'aflfrom': 1...  \n",
       "1  {'maladaptation': 1, 'phasedelay': 1, '25hour'...  \n",
       "2  {'germanyover': 1, 'bluesgospel': 1, 'harpdog'...  "
      ]
     },
     "execution_count": 15,
     "metadata": {},
     "output_type": "execute_result"
    }
   ],
   "source": [
    "wiki.head(3)"
   ]
  },
  {
   "cell_type": "code",
   "execution_count": 16,
   "metadata": {},
   "outputs": [
    {
     "name": "stdout",
     "output_type": "stream",
     "text": [
      "             word  count\n",
      "0           husen      1\n",
      "1       2012obama      1\n",
      "2  laureateduring      1\n",
      "3       normalize      1\n"
     ]
    }
   ],
   "source": [
    "name = 'Barack Obama'\n",
    "row = wiki[wiki['name'] == name]\n",
    "dic = row['word_count'].iloc[0]\n",
    "word_count_ = pd.DataFrame(dic.items(), columns=['word','count'], index=None)\n",
    "print(word_count_.head(4))"
   ]
  },
  {
   "cell_type": "code",
   "execution_count": 17,
   "metadata": {},
   "outputs": [
    {
     "name": "stdout",
     "output_type": "stream",
     "text": [
      "      word  count\n",
      "272    the     40\n",
      "270     in     30\n",
      "271    and     21\n",
      "269     of     18\n",
      "266     to     14\n",
      "258    his     11\n",
      "71   obama      9\n",
      "138    act      8\n",
      "260     he      7\n",
      "268      a      7\n",
      "\n",
      "\n",
      "          word  count\n",
      "224        the     36\n",
      "221         of     24\n",
      "223        and     18\n",
      "222         in     17\n",
      "212         he     10\n",
      "218         to      9\n",
      "19   chihuahua      7\n",
      "220          a      6\n",
      "111   governor      6\n",
      "210        his      5\n"
     ]
    }
   ],
   "source": [
    "def top_words(name):\n",
    "    \"\"\"\n",
    "    Get a table of the most frequent words in the given person's wikipedia page.\n",
    "    \"\"\"\n",
    "    row = wiki[wiki['name'] == name]\n",
    "    dic = row['word_count'].iloc[0]\n",
    "    word_count_ = pd.DataFrame(dic.items(), columns=['word','count'])\n",
    "    word_count_table = word_count_.sort_values(by='count', ascending=False)\n",
    "    #word_count_table = word_count_table.fillna(0)\n",
    "    #word_count_table = row[['word_count']].stack('word_count', new_column_name=['word','count'])\n",
    "    return word_count_table #word_count_table.sort('count', ascending=False)\n",
    "\n",
    "obama_words = top_words('Barack Obama')\n",
    "print(obama_words.head(10))\n",
    "print('\\n')\n",
    "barrio_words = top_words('Francisco Barrio')\n",
    "print(barrio_words.head(10))"
   ]
  },
  {
   "cell_type": "code",
   "execution_count": 18,
   "metadata": {},
   "outputs": [
    {
     "data": {
      "text/html": [
       "<div>\n",
       "<style scoped>\n",
       "    .dataframe tbody tr th:only-of-type {\n",
       "        vertical-align: middle;\n",
       "    }\n",
       "\n",
       "    .dataframe tbody tr th {\n",
       "        vertical-align: top;\n",
       "    }\n",
       "\n",
       "    .dataframe thead th {\n",
       "        text-align: right;\n",
       "    }\n",
       "</style>\n",
       "<table border=\"1\" class=\"dataframe\">\n",
       "  <thead>\n",
       "    <tr style=\"text-align: right;\">\n",
       "      <th></th>\n",
       "      <th>count_obama</th>\n",
       "      <th>count_barrio</th>\n",
       "    </tr>\n",
       "    <tr>\n",
       "      <th>word</th>\n",
       "      <th></th>\n",
       "      <th></th>\n",
       "    </tr>\n",
       "  </thead>\n",
       "  <tbody>\n",
       "    <tr>\n",
       "      <th>the</th>\n",
       "      <td>40</td>\n",
       "      <td>36.0</td>\n",
       "    </tr>\n",
       "    <tr>\n",
       "      <th>in</th>\n",
       "      <td>30</td>\n",
       "      <td>17.0</td>\n",
       "    </tr>\n",
       "    <tr>\n",
       "      <th>and</th>\n",
       "      <td>21</td>\n",
       "      <td>18.0</td>\n",
       "    </tr>\n",
       "    <tr>\n",
       "      <th>of</th>\n",
       "      <td>18</td>\n",
       "      <td>24.0</td>\n",
       "    </tr>\n",
       "    <tr>\n",
       "      <th>to</th>\n",
       "      <td>14</td>\n",
       "      <td>9.0</td>\n",
       "    </tr>\n",
       "    <tr>\n",
       "      <th>his</th>\n",
       "      <td>11</td>\n",
       "      <td>5.0</td>\n",
       "    </tr>\n",
       "    <tr>\n",
       "      <th>obama</th>\n",
       "      <td>9</td>\n",
       "      <td>NaN</td>\n",
       "    </tr>\n",
       "    <tr>\n",
       "      <th>act</th>\n",
       "      <td>8</td>\n",
       "      <td>NaN</td>\n",
       "    </tr>\n",
       "    <tr>\n",
       "      <th>he</th>\n",
       "      <td>7</td>\n",
       "      <td>10.0</td>\n",
       "    </tr>\n",
       "    <tr>\n",
       "      <th>a</th>\n",
       "      <td>7</td>\n",
       "      <td>6.0</td>\n",
       "    </tr>\n",
       "  </tbody>\n",
       "</table>\n",
       "</div>"
      ],
      "text/plain": [
       "       count_obama  count_barrio\n",
       "word                            \n",
       "the             40          36.0\n",
       "in              30          17.0\n",
       "and             21          18.0\n",
       "of              18          24.0\n",
       "to              14           9.0\n",
       "his             11           5.0\n",
       "obama            9           NaN\n",
       "act              8           NaN\n",
       "he               7          10.0\n",
       "a                7           6.0"
      ]
     },
     "execution_count": 18,
     "metadata": {},
     "output_type": "execute_result"
    }
   ],
   "source": [
    "combined_words = obama_words.set_index('word').join(barrio_words.set_index('word'), lsuffix='_obama', rsuffix='_barrio')\n",
    "combined_words.head(10)"
   ]
  },
  {
   "cell_type": "code",
   "execution_count": 19,
   "metadata": {},
   "outputs": [
    {
     "data": {
      "text/html": [
       "<div>\n",
       "<style scoped>\n",
       "    .dataframe tbody tr th:only-of-type {\n",
       "        vertical-align: middle;\n",
       "    }\n",
       "\n",
       "    .dataframe tbody tr th {\n",
       "        vertical-align: top;\n",
       "    }\n",
       "\n",
       "    .dataframe thead th {\n",
       "        text-align: right;\n",
       "    }\n",
       "</style>\n",
       "<table border=\"1\" class=\"dataframe\">\n",
       "  <thead>\n",
       "    <tr style=\"text-align: right;\">\n",
       "      <th></th>\n",
       "      <th>URI</th>\n",
       "      <th>name</th>\n",
       "      <th>text</th>\n",
       "      <th>word_count</th>\n",
       "      <th>has_top_words</th>\n",
       "    </tr>\n",
       "  </thead>\n",
       "  <tbody>\n",
       "    <tr>\n",
       "      <th>0</th>\n",
       "      <td>&lt;http://dbpedia.org/resource/Digby_Morrell&gt;</td>\n",
       "      <td>Digby Morrell</td>\n",
       "      <td>digby morrell born 10 october 1979 is a former...</td>\n",
       "      <td>{'brisbaneafter': 1, 'edflhe': 1, 'aflfrom': 1...</td>\n",
       "      <td>True</td>\n",
       "    </tr>\n",
       "    <tr>\n",
       "      <th>1</th>\n",
       "      <td>&lt;http://dbpedia.org/resource/Alfred_J._Lewy&gt;</td>\n",
       "      <td>Alfred J. Lewy</td>\n",
       "      <td>alfred j lewy aka sandy lewy graduated from un...</td>\n",
       "      <td>{'maladaptation': 1, 'phasedelay': 1, '25hour'...</td>\n",
       "      <td>True</td>\n",
       "    </tr>\n",
       "    <tr>\n",
       "      <th>2</th>\n",
       "      <td>&lt;http://dbpedia.org/resource/Harpdog_Brown&gt;</td>\n",
       "      <td>Harpdog Brown</td>\n",
       "      <td>harpdog brown is a singer and harmonica player...</td>\n",
       "      <td>{'germanyover': 1, 'bluesgospel': 1, 'harpdog'...</td>\n",
       "      <td>True</td>\n",
       "    </tr>\n",
       "    <tr>\n",
       "      <th>3</th>\n",
       "      <td>&lt;http://dbpedia.org/resource/Franz_Rottensteiner&gt;</td>\n",
       "      <td>Franz Rottensteiner</td>\n",
       "      <td>franz rottensteiner born in waidmannsfeld lowe...</td>\n",
       "      <td>{'fantasticrottensteiner': 1, 'waidmannsfeld':...</td>\n",
       "      <td>True</td>\n",
       "    </tr>\n",
       "    <tr>\n",
       "      <th>4</th>\n",
       "      <td>&lt;http://dbpedia.org/resource/G-Enka&gt;</td>\n",
       "      <td>G-Enka</td>\n",
       "      <td>henry krvits born 30 december 1974 in tallinn ...</td>\n",
       "      <td>{'arhm': 3, 'gangstergenka': 1, 'kuhnja': 1, '...</td>\n",
       "      <td>False</td>\n",
       "    </tr>\n",
       "    <tr>\n",
       "      <th>5</th>\n",
       "      <td>&lt;http://dbpedia.org/resource/Sam_Henderson&gt;</td>\n",
       "      <td>Sam Henderson</td>\n",
       "      <td>sam henderson born october 18 1969 is an ameri...</td>\n",
       "      <td>{'historyhenderson': 1, 'onteora': 1, '1991hen...</td>\n",
       "      <td>False</td>\n",
       "    </tr>\n",
       "    <tr>\n",
       "      <th>6</th>\n",
       "      <td>&lt;http://dbpedia.org/resource/Aaron_LaCrate&gt;</td>\n",
       "      <td>Aaron LaCrate</td>\n",
       "      <td>aaron lacrate is an american music producer re...</td>\n",
       "      <td>{'pellatfinet': 1, 'lacrates': 1, 'baltimoreaa...</td>\n",
       "      <td>True</td>\n",
       "    </tr>\n",
       "    <tr>\n",
       "      <th>7</th>\n",
       "      <td>&lt;http://dbpedia.org/resource/Trevor_Ferguson&gt;</td>\n",
       "      <td>Trevor Ferguson</td>\n",
       "      <td>trevor ferguson aka john farrow born 11 novemb...</td>\n",
       "      <td>{'2014city': 1, 'kinkajou': 1, 'bunkhousesin':...</td>\n",
       "      <td>True</td>\n",
       "    </tr>\n",
       "    <tr>\n",
       "      <th>8</th>\n",
       "      <td>&lt;http://dbpedia.org/resource/Grant_Nelson&gt;</td>\n",
       "      <td>Grant Nelson</td>\n",
       "      <td>grant nelson born 27 april 1971 in london also...</td>\n",
       "      <td>{'garagehe': 1, 'hardcores': 1, 'wishdokta': 3...</td>\n",
       "      <td>True</td>\n",
       "    </tr>\n",
       "    <tr>\n",
       "      <th>9</th>\n",
       "      <td>&lt;http://dbpedia.org/resource/Cathy_Caruth&gt;</td>\n",
       "      <td>Cathy Caruth</td>\n",
       "      <td>cathy caruth born 1955 is frank h t rhodes pro...</td>\n",
       "      <td>{'caruths': 1, 'deborash': 1, '173182': 1, 'ca...</td>\n",
       "      <td>True</td>\n",
       "    </tr>\n",
       "  </tbody>\n",
       "</table>\n",
       "</div>"
      ],
      "text/plain": [
       "                                                 URI                 name  \\\n",
       "0        <http://dbpedia.org/resource/Digby_Morrell>        Digby Morrell   \n",
       "1       <http://dbpedia.org/resource/Alfred_J._Lewy>       Alfred J. Lewy   \n",
       "2        <http://dbpedia.org/resource/Harpdog_Brown>        Harpdog Brown   \n",
       "3  <http://dbpedia.org/resource/Franz_Rottensteiner>  Franz Rottensteiner   \n",
       "4               <http://dbpedia.org/resource/G-Enka>               G-Enka   \n",
       "5        <http://dbpedia.org/resource/Sam_Henderson>        Sam Henderson   \n",
       "6        <http://dbpedia.org/resource/Aaron_LaCrate>        Aaron LaCrate   \n",
       "7      <http://dbpedia.org/resource/Trevor_Ferguson>      Trevor Ferguson   \n",
       "8         <http://dbpedia.org/resource/Grant_Nelson>         Grant Nelson   \n",
       "9         <http://dbpedia.org/resource/Cathy_Caruth>         Cathy Caruth   \n",
       "\n",
       "                                                text  \\\n",
       "0  digby morrell born 10 october 1979 is a former...   \n",
       "1  alfred j lewy aka sandy lewy graduated from un...   \n",
       "2  harpdog brown is a singer and harmonica player...   \n",
       "3  franz rottensteiner born in waidmannsfeld lowe...   \n",
       "4  henry krvits born 30 december 1974 in tallinn ...   \n",
       "5  sam henderson born october 18 1969 is an ameri...   \n",
       "6  aaron lacrate is an american music producer re...   \n",
       "7  trevor ferguson aka john farrow born 11 novemb...   \n",
       "8  grant nelson born 27 april 1971 in london also...   \n",
       "9  cathy caruth born 1955 is frank h t rhodes pro...   \n",
       "\n",
       "                                          word_count  has_top_words  \n",
       "0  {'brisbaneafter': 1, 'edflhe': 1, 'aflfrom': 1...           True  \n",
       "1  {'maladaptation': 1, 'phasedelay': 1, '25hour'...           True  \n",
       "2  {'germanyover': 1, 'bluesgospel': 1, 'harpdog'...           True  \n",
       "3  {'fantasticrottensteiner': 1, 'waidmannsfeld':...           True  \n",
       "4  {'arhm': 3, 'gangstergenka': 1, 'kuhnja': 1, '...          False  \n",
       "5  {'historyhenderson': 1, 'onteora': 1, '1991hen...          False  \n",
       "6  {'pellatfinet': 1, 'lacrates': 1, 'baltimoreaa...           True  \n",
       "7  {'2014city': 1, 'kinkajou': 1, 'bunkhousesin':...           True  \n",
       "8  {'garagehe': 1, 'hardcores': 1, 'wishdokta': 3...           True  \n",
       "9  {'caruths': 1, 'deborash': 1, '173182': 1, 'ca...           True  "
      ]
     },
     "execution_count": 19,
     "metadata": {},
     "output_type": "execute_result"
    }
   ],
   "source": [
    "common_words = set(['the', 'in', 'and', 'of', 'to'])  # YOUR CODE HERE\n",
    "\n",
    "def has_top_words(word_count_vector):\n",
    "    # extract the keys of word_count_vector and convert it to a set\n",
    "    unique_words = set(word_count_vector.keys())   # YOUR CODE HERE\n",
    "    # return True if common_words is a subset of unique_words\n",
    "    # return False otherwise\n",
    "    #print unique_words\n",
    "    return common_words.issubset(unique_words)  # YOUR CODE HERE\n",
    "\n",
    "wiki['has_top_words'] = wiki['word_count'].apply(has_top_words)\n",
    "\n",
    "# use has_top_words column to answer the quiz question\n",
    "wiki.head(10) # YOUR CODE HERE"
   ]
  },
  {
   "cell_type": "code",
   "execution_count": 20,
   "metadata": {},
   "outputs": [
    {
     "name": "stdout",
     "output_type": "stream",
     "text": [
      "56066\n"
     ]
    }
   ],
   "source": [
    "print(len(wiki[wiki['has_top_words'] == True]))"
   ]
  },
  {
   "cell_type": "code",
   "execution_count": 21,
   "metadata": {},
   "outputs": [
    {
     "name": "stdout",
     "output_type": "stream",
     "text": [
      "[[34.39476704]]\n",
      "[[33.07567082]]\n",
      "[[32.75667871]]\n"
     ]
    }
   ],
   "source": [
    "from sklearn.metrics.pairwise import euclidean_distances\n",
    "\n",
    "print(euclidean_distances(word_count[wiki[wiki['name'] == 'Barack Obama'].index[0]], word_count[wiki[wiki['name'] == 'George W. Bush'].index[0]]))\n",
    "print(euclidean_distances(word_count[wiki[wiki['name'] == 'Barack Obama'].index[0]], word_count[wiki[wiki['name'] == 'Joe Biden'].index[0]]))\n",
    "print(euclidean_distances(word_count[wiki[wiki['name'] == 'George W. Bush'].index[0]], word_count[wiki[wiki['name'] == 'Joe Biden'].index[0]]))"
   ]
  },
  {
   "cell_type": "code",
   "execution_count": 22,
   "metadata": {},
   "outputs": [
    {
     "data": {
      "text/plain": [
       "[547969,\n",
       " 547966,\n",
       " 547974,\n",
       " 547084,\n",
       " 547964,\n",
       " 547972,\n",
       " 547975,\n",
       " 547977,\n",
       " 547976,\n",
       " 547978]"
      ]
     },
     "execution_count": 22,
     "metadata": {},
     "output_type": "execute_result"
    }
   ],
   "source": [
    "wc_BO = word_count[wiki[wiki['name'] == 'Barack Obama'].index[0]].tocoo()\n",
    "wc_GB = word_count[wiki[wiki['name'] == 'George W. Bush'].index[0]].tocoo()\n",
    "wc = list(set(wc_BO.col) & set(wc_GB.col))\n",
    "lista_valores = {}\n",
    "for i, j, z in zip(wc_BO.row, wc_BO.col, wc_BO.data):\n",
    "    if j in wc:\n",
    "        lista_valores[j] = z\n",
    "        \n",
    "dicionario = dict(sorted(lista_valores.items(), key=lambda item: item[1]))\n",
    "lista = list(dicionario.keys())\n",
    "lista[len(lista)-10:len(lista)]"
   ]
  },
  {
   "cell_type": "code",
   "execution_count": 23,
   "metadata": {},
   "outputs": [
    {
     "name": "stdout",
     "output_type": "stream",
     "text": [
      "as\n",
      "he\n",
      "a\n",
      "act\n",
      "his\n",
      "to\n",
      "of\n",
      "and\n",
      "in\n",
      "the\n"
     ]
    }
   ],
   "source": [
    "my_dict2 = {y:x for x,y in map_index_to_word.items()}\n",
    "for i in lista[len(lista)-10:len(lista)]:\n",
    "    print(my_dict2[i])"
   ]
  },
  {
   "cell_type": "code",
   "execution_count": 24,
   "metadata": {},
   "outputs": [],
   "source": [
    "tf_idf = load_sparse_csr('people_wiki_tf_idf.npz')"
   ]
  },
  {
   "cell_type": "code",
   "execution_count": 25,
   "metadata": {},
   "outputs": [],
   "source": [
    "wiki['tf_idf'] = unpack_dict(tf_idf, map_index_to_word)"
   ]
  },
  {
   "cell_type": "code",
   "execution_count": 27,
   "metadata": {},
   "outputs": [
    {
     "data": {
      "text/html": [
       "<div>\n",
       "<style scoped>\n",
       "    .dataframe tbody tr th:only-of-type {\n",
       "        vertical-align: middle;\n",
       "    }\n",
       "\n",
       "    .dataframe tbody tr th {\n",
       "        vertical-align: top;\n",
       "    }\n",
       "\n",
       "    .dataframe thead th {\n",
       "        text-align: right;\n",
       "    }\n",
       "</style>\n",
       "<table border=\"1\" class=\"dataframe\">\n",
       "  <thead>\n",
       "    <tr style=\"text-align: right;\">\n",
       "      <th></th>\n",
       "      <th>URI</th>\n",
       "      <th>name</th>\n",
       "      <th>text</th>\n",
       "      <th>word_count</th>\n",
       "      <th>has_top_words</th>\n",
       "      <th>tf_idf</th>\n",
       "    </tr>\n",
       "  </thead>\n",
       "  <tbody>\n",
       "    <tr>\n",
       "      <th>0</th>\n",
       "      <td>&lt;http://dbpedia.org/resource/Digby_Morrell&gt;</td>\n",
       "      <td>Digby Morrell</td>\n",
       "      <td>digby morrell born 10 october 1979 is a former...</td>\n",
       "      <td>{'brisbaneafter': 1, 'edflhe': 1, 'aflfrom': 1...</td>\n",
       "      <td>True</td>\n",
       "      <td>{'brisbaneafter': 10.986495389225194, 'edflhe'...</td>\n",
       "    </tr>\n",
       "    <tr>\n",
       "      <th>1</th>\n",
       "      <td>&lt;http://dbpedia.org/resource/Alfred_J._Lewy&gt;</td>\n",
       "      <td>Alfred J. Lewy</td>\n",
       "      <td>alfred j lewy aka sandy lewy graduated from un...</td>\n",
       "      <td>{'maladaptation': 1, 'phasedelay': 1, '25hour'...</td>\n",
       "      <td>True</td>\n",
       "      <td>{'maladaptation': 10.986495389225194, 'phasede...</td>\n",
       "    </tr>\n",
       "    <tr>\n",
       "      <th>2</th>\n",
       "      <td>&lt;http://dbpedia.org/resource/Harpdog_Brown&gt;</td>\n",
       "      <td>Harpdog Brown</td>\n",
       "      <td>harpdog brown is a singer and harmonica player...</td>\n",
       "      <td>{'germanyover': 1, 'bluesgospel': 1, 'harpdog'...</td>\n",
       "      <td>True</td>\n",
       "      <td>{'germanyover': 10.986495389225194, 'bluesgosp...</td>\n",
       "    </tr>\n",
       "  </tbody>\n",
       "</table>\n",
       "</div>"
      ],
      "text/plain": [
       "                                            URI            name  \\\n",
       "0   <http://dbpedia.org/resource/Digby_Morrell>   Digby Morrell   \n",
       "1  <http://dbpedia.org/resource/Alfred_J._Lewy>  Alfred J. Lewy   \n",
       "2   <http://dbpedia.org/resource/Harpdog_Brown>   Harpdog Brown   \n",
       "\n",
       "                                                text  \\\n",
       "0  digby morrell born 10 october 1979 is a former...   \n",
       "1  alfred j lewy aka sandy lewy graduated from un...   \n",
       "2  harpdog brown is a singer and harmonica player...   \n",
       "\n",
       "                                          word_count  has_top_words  \\\n",
       "0  {'brisbaneafter': 1, 'edflhe': 1, 'aflfrom': 1...           True   \n",
       "1  {'maladaptation': 1, 'phasedelay': 1, '25hour'...           True   \n",
       "2  {'germanyover': 1, 'bluesgospel': 1, 'harpdog'...           True   \n",
       "\n",
       "                                              tf_idf  \n",
       "0  {'brisbaneafter': 10.986495389225194, 'edflhe'...  \n",
       "1  {'maladaptation': 10.986495389225194, 'phasede...  \n",
       "2  {'germanyover': 10.986495389225194, 'bluesgosp...  "
      ]
     },
     "execution_count": 27,
     "metadata": {},
     "output_type": "execute_result"
    }
   ],
   "source": [
    "wiki.head(3)"
   ]
  },
  {
   "cell_type": "code",
   "execution_count": 28,
   "metadata": {},
   "outputs": [
    {
     "data": {
      "text/plain": [
       "NearestNeighbors(algorithm='brute', metric='euclidean')"
      ]
     },
     "execution_count": 28,
     "metadata": {},
     "output_type": "execute_result"
    }
   ],
   "source": [
    "model_tf_idf = NearestNeighbors(metric='euclidean', algorithm='brute')\n",
    "model_tf_idf.fit(tf_idf)"
   ]
  },
  {
   "cell_type": "code",
   "execution_count": 29,
   "metadata": {},
   "outputs": [],
   "source": [
    "distances, indices = model_tf_idf.kneighbors(tf_idf[35817], n_neighbors=10)"
   ]
  },
  {
   "cell_type": "code",
   "execution_count": 31,
   "metadata": {},
   "outputs": [
    {
     "name": "stdout",
     "output_type": "stream",
     "text": [
      "                          name    distance\n",
      "35817             Barack Obama    0.000000\n",
      "7914             Phil Schiliro  106.861014\n",
      "46811            Jeff Sessions  108.871674\n",
      "44681   Jesse Lee (politician)  109.045698\n",
      "38376           Samantha Power  109.108106\n",
      "6507              Bob Menendez  109.781867\n",
      "38714  Eric Stern (politician)  109.957788\n",
      "44825           James A. Guest  110.413889\n",
      "44368     Roland Grossenbacher  110.470609\n",
      "33417            Tulsi Gabbard  110.696998\n"
     ]
    }
   ],
   "source": [
    "neighbors = pd.DataFrame(data={'distance':distances.flatten()}, index=indices.flatten())\n",
    "print(wiki.join(neighbors).sort_values(by='distance')[['name','distance']][0:10])"
   ]
  },
  {
   "cell_type": "code",
   "execution_count": 33,
   "metadata": {},
   "outputs": [
    {
     "name": "stdout",
     "output_type": "stream",
     "text": [
      "            word     weight\n",
      "71         obama  43.295653\n",
      "138          act  27.678223\n",
      "97          iraq  17.747379\n",
      "129      control  14.887061\n",
      "191          law  14.722936\n",
      "69       ordered  14.533374\n",
      "155     military  13.115933\n",
      "105  involvement  12.784385\n",
      "104     response  12.784385\n",
      "166   democratic  12.410689\n",
      "               word     weight\n",
      "1          schiliro  21.972991\n",
      "42            staff  15.856442\n",
      "17    congressional  13.547088\n",
      "0   daschleschiliro  10.986495\n",
      "13            obama   9.621256\n",
      "2            waxman   9.040585\n",
      "82        president   9.033587\n",
      "3          2014from   8.683910\n",
      "65              law   7.361468\n",
      "33       consultant   6.913104\n"
     ]
    }
   ],
   "source": [
    "def top_words_tf_idf(name):\n",
    "    row = wiki[wiki['name'] == name]\n",
    "    row = wiki[wiki['name'] == name]\n",
    "    dic = row['tf_idf'].iloc[0]\n",
    "    word_weight_ = pd.DataFrame(dic.items(), columns=['word','weight'])\n",
    "    word_weight_table = word_weight_.sort_values(by=['weight'], ascending=False)\n",
    "    #word_count_table = row[['word_count']].stack('word_count', new_column_name=['word','count'])\n",
    "    return word_weight_table #word_count_table.sort('count', ascending=False)\n",
    "\n",
    "obama_tf_idf = top_words_tf_idf('Barack Obama')\n",
    "print(obama_tf_idf.head(10))\n",
    "\n",
    "schiliro_tf_idf = top_words_tf_idf('Phil Schiliro')\n",
    "print(schiliro_tf_idf.head(10))"
   ]
  },
  {
   "cell_type": "code",
   "execution_count": 48,
   "metadata": {},
   "outputs": [
    {
     "data": {
      "text/plain": [
       "47"
      ]
     },
     "execution_count": 48,
     "metadata": {},
     "output_type": "execute_result"
    }
   ],
   "source": [
    "lista_schiliro = schiliro_tf_idf['word'].to_list()\n",
    "\n",
    "lista_conjunta = []\n",
    "for index, row in obama_tf_idf.iterrows():\n",
    "    if row['word'] in lista_schiliro:\n",
    "        lista_conjunta.append(row['word'])\n",
    "\n",
    "len(lista_conjunta)"
   ]
  },
  {
   "cell_type": "code",
   "execution_count": 52,
   "metadata": {},
   "outputs": [
    {
     "data": {
      "text/html": [
       "<div>\n",
       "<style scoped>\n",
       "    .dataframe tbody tr th:only-of-type {\n",
       "        vertical-align: middle;\n",
       "    }\n",
       "\n",
       "    .dataframe tbody tr th {\n",
       "        vertical-align: top;\n",
       "    }\n",
       "\n",
       "    .dataframe thead th {\n",
       "        text-align: right;\n",
       "    }\n",
       "</style>\n",
       "<table border=\"1\" class=\"dataframe\">\n",
       "  <thead>\n",
       "    <tr style=\"text-align: right;\">\n",
       "      <th></th>\n",
       "      <th>URI</th>\n",
       "      <th>name</th>\n",
       "      <th>text</th>\n",
       "      <th>word_count</th>\n",
       "      <th>has_top_words</th>\n",
       "      <th>tf_idf</th>\n",
       "    </tr>\n",
       "  </thead>\n",
       "  <tbody>\n",
       "    <tr>\n",
       "      <th>0</th>\n",
       "      <td>&lt;http://dbpedia.org/resource/Digby_Morrell&gt;</td>\n",
       "      <td>Digby Morrell</td>\n",
       "      <td>digby morrell born 10 october 1979 is a former...</td>\n",
       "      <td>{'brisbaneafter': 1, 'edflhe': 1, 'aflfrom': 1...</td>\n",
       "      <td>False</td>\n",
       "      <td>{'brisbaneafter': 10.986495389225194, 'edflhe'...</td>\n",
       "    </tr>\n",
       "    <tr>\n",
       "      <th>1</th>\n",
       "      <td>&lt;http://dbpedia.org/resource/Alfred_J._Lewy&gt;</td>\n",
       "      <td>Alfred J. Lewy</td>\n",
       "      <td>alfred j lewy aka sandy lewy graduated from un...</td>\n",
       "      <td>{'maladaptation': 1, 'phasedelay': 1, '25hour'...</td>\n",
       "      <td>False</td>\n",
       "      <td>{'maladaptation': 10.986495389225194, 'phasede...</td>\n",
       "    </tr>\n",
       "    <tr>\n",
       "      <th>2</th>\n",
       "      <td>&lt;http://dbpedia.org/resource/Harpdog_Brown&gt;</td>\n",
       "      <td>Harpdog Brown</td>\n",
       "      <td>harpdog brown is a singer and harmonica player...</td>\n",
       "      <td>{'germanyover': 1, 'bluesgospel': 1, 'harpdog'...</td>\n",
       "      <td>False</td>\n",
       "      <td>{'germanyover': 10.986495389225194, 'bluesgosp...</td>\n",
       "    </tr>\n",
       "  </tbody>\n",
       "</table>\n",
       "</div>"
      ],
      "text/plain": [
       "                                            URI            name  \\\n",
       "0   <http://dbpedia.org/resource/Digby_Morrell>   Digby Morrell   \n",
       "1  <http://dbpedia.org/resource/Alfred_J._Lewy>  Alfred J. Lewy   \n",
       "2   <http://dbpedia.org/resource/Harpdog_Brown>   Harpdog Brown   \n",
       "\n",
       "                                                text  \\\n",
       "0  digby morrell born 10 october 1979 is a former...   \n",
       "1  alfred j lewy aka sandy lewy graduated from un...   \n",
       "2  harpdog brown is a singer and harmonica player...   \n",
       "\n",
       "                                          word_count  has_top_words  \\\n",
       "0  {'brisbaneafter': 1, 'edflhe': 1, 'aflfrom': 1...          False   \n",
       "1  {'maladaptation': 1, 'phasedelay': 1, '25hour'...          False   \n",
       "2  {'germanyover': 1, 'bluesgospel': 1, 'harpdog'...          False   \n",
       "\n",
       "                                              tf_idf  \n",
       "0  {'brisbaneafter': 10.986495389225194, 'edflhe'...  \n",
       "1  {'maladaptation': 10.986495389225194, 'phasede...  \n",
       "2  {'germanyover': 10.986495389225194, 'bluesgosp...  "
      ]
     },
     "execution_count": 52,
     "metadata": {},
     "output_type": "execute_result"
    }
   ],
   "source": [
    "common_words = set(lista_conjunta[0:5])  # YOUR CODE HERE\n",
    "\n",
    "def has_top_words(word_count_vector):\n",
    "    # extract the keys of word_count_vector and convert it to a set\n",
    "    unique_words = set(word_count_vector.keys())   # YOUR CODE HERE\n",
    "    # return True if common_words is a subset of unique_words\n",
    "    # return False otherwise\n",
    "    #print unique_words\n",
    "    return common_words.issubset(unique_words)  # YOUR CODE HERE\n",
    "\n",
    "wiki['has_top_words'] = wiki['word_count'].apply(has_top_words)\n",
    "\n",
    "# use has_top_words column to answer the quiz question\n",
    "wiki.head(3) # YOUR CODE HERE"
   ]
  },
  {
   "cell_type": "code",
   "execution_count": 55,
   "metadata": {},
   "outputs": [
    {
     "data": {
      "text/html": [
       "<div>\n",
       "<style scoped>\n",
       "    .dataframe tbody tr th:only-of-type {\n",
       "        vertical-align: middle;\n",
       "    }\n",
       "\n",
       "    .dataframe tbody tr th {\n",
       "        vertical-align: top;\n",
       "    }\n",
       "\n",
       "    .dataframe thead th {\n",
       "        text-align: right;\n",
       "    }\n",
       "</style>\n",
       "<table border=\"1\" class=\"dataframe\">\n",
       "  <thead>\n",
       "    <tr style=\"text-align: right;\">\n",
       "      <th></th>\n",
       "      <th>URI</th>\n",
       "      <th>name</th>\n",
       "      <th>text</th>\n",
       "      <th>word_count</th>\n",
       "      <th>has_top_words</th>\n",
       "      <th>tf_idf</th>\n",
       "    </tr>\n",
       "  </thead>\n",
       "  <tbody>\n",
       "    <tr>\n",
       "      <th>count</th>\n",
       "      <td>14</td>\n",
       "      <td>14</td>\n",
       "      <td>14</td>\n",
       "      <td>14</td>\n",
       "      <td>14</td>\n",
       "      <td>14</td>\n",
       "    </tr>\n",
       "    <tr>\n",
       "      <th>unique</th>\n",
       "      <td>14</td>\n",
       "      <td>14</td>\n",
       "      <td>14</td>\n",
       "      <td>14</td>\n",
       "      <td>1</td>\n",
       "      <td>14</td>\n",
       "    </tr>\n",
       "    <tr>\n",
       "      <th>top</th>\n",
       "      <td>&lt;http://dbpedia.org/resource/Hillary_Rodham_Cl...</td>\n",
       "      <td>Sarah Sewall</td>\n",
       "      <td>sheila nix is an american political strategist...</td>\n",
       "      <td>{'bushkerry': 1, 'crimesafter': 1, '943': 1, '...</td>\n",
       "      <td>True</td>\n",
       "      <td>{'bushkerry': 10.986495389225194, 'crimesafter...</td>\n",
       "    </tr>\n",
       "    <tr>\n",
       "      <th>freq</th>\n",
       "      <td>1</td>\n",
       "      <td>1</td>\n",
       "      <td>1</td>\n",
       "      <td>1</td>\n",
       "      <td>14</td>\n",
       "      <td>1</td>\n",
       "    </tr>\n",
       "  </tbody>\n",
       "</table>\n",
       "</div>"
      ],
      "text/plain": [
       "                                                      URI          name  \\\n",
       "count                                                  14            14   \n",
       "unique                                                 14            14   \n",
       "top     <http://dbpedia.org/resource/Hillary_Rodham_Cl...  Sarah Sewall   \n",
       "freq                                                    1             1   \n",
       "\n",
       "                                                     text  \\\n",
       "count                                                  14   \n",
       "unique                                                 14   \n",
       "top     sheila nix is an american political strategist...   \n",
       "freq                                                    1   \n",
       "\n",
       "                                               word_count has_top_words  \\\n",
       "count                                                  14            14   \n",
       "unique                                                 14             1   \n",
       "top     {'bushkerry': 1, 'crimesafter': 1, '943': 1, '...          True   \n",
       "freq                                                    1            14   \n",
       "\n",
       "                                                   tf_idf  \n",
       "count                                                  14  \n",
       "unique                                                 14  \n",
       "top     {'bushkerry': 10.986495389225194, 'crimesafter...  \n",
       "freq                                                    1  "
      ]
     },
     "execution_count": 55,
     "metadata": {},
     "output_type": "execute_result"
    }
   ],
   "source": [
    "wiki[wiki['has_top_words'] == True].describe()"
   ]
  },
  {
   "cell_type": "code",
   "execution_count": 56,
   "metadata": {},
   "outputs": [
    {
     "name": "stdout",
     "output_type": "stream",
     "text": [
      "[[123.29745601]]\n"
     ]
    }
   ],
   "source": [
    "print(euclidean_distances(tf_idf[wiki[wiki['name'] == 'Barack Obama'].index[0]], tf_idf[wiki[wiki['name'] == 'Joe Biden'].index[0]]))"
   ]
  },
  {
   "cell_type": "code",
   "execution_count": 59,
   "metadata": {},
   "outputs": [],
   "source": [
    "# Comptue length of all documents\n",
    "def compute_length(row):\n",
    "    #print row['text'].split(' ')\n",
    "    return len(row['text'].split(' '))\n",
    "wiki['length'] = wiki.apply(compute_length, axis=1)"
   ]
  },
  {
   "cell_type": "code",
   "execution_count": 60,
   "metadata": {},
   "outputs": [
    {
     "name": "stdout",
     "output_type": "stream",
     "text": [
      "                          name  length    distance\n",
      "35817             Barack Obama     540    0.000000\n",
      "7914             Phil Schiliro     208  106.861014\n",
      "46811            Jeff Sessions     230  108.871674\n",
      "44681   Jesse Lee (politician)     216  109.045698\n",
      "38376           Samantha Power     310  109.108106\n",
      "6507              Bob Menendez     220  109.781867\n",
      "38714  Eric Stern (politician)     255  109.957788\n",
      "44825           James A. Guest     215  110.413889\n",
      "44368     Roland Grossenbacher     201  110.470609\n",
      "33417            Tulsi Gabbard     228  110.696998\n"
     ]
    }
   ],
   "source": [
    "# Compute 100 nearest neighbors and display their lengths\n",
    "distances, indices = model_tf_idf.kneighbors(tf_idf[35817], n_neighbors=100)\n",
    "neighbors = pd.DataFrame(data={'distance':distances.flatten()}, index=indices.flatten())\n",
    "#print neighbors.head(2)\n",
    "nearest_neighbors_euclidean = wiki.join(neighbors).sort_values(by='distance')[['name', 'length', 'distance']]\n",
    "print(nearest_neighbors_euclidean.head(10))"
   ]
  },
  {
   "cell_type": "code",
   "execution_count": 64,
   "metadata": {},
   "outputs": [
    {
     "data": {
      "image/png": "[encoded data removed]",
      "text/plain": [
       "<Figure size 756x324 with 1 Axes>"
      ]
     },
     "metadata": {
      "needs_background": "light"
     },
     "output_type": "display_data"
    }
   ],
   "source": [
    "plt.figure(figsize=(10.5,4.5))\n",
    "plt.hist(wiki['length'], 50, color='k', edgecolor='None', histtype='stepfilled', density = True,\n",
    "         label='Entire Wikipedia', zorder=3, alpha=0.8)\n",
    "plt.hist(nearest_neighbors_euclidean['length'][:100], 50, color='r', edgecolor='None', histtype='stepfilled', density = True,\n",
    "         label='100 NNs of Obama (Euclidean)', zorder=10, alpha=0.8)\n",
    "plt.axvline(x=wiki['length'][wiki.index[wiki['name'] == 'Barack Obama']].tolist()[0], color='k', linestyle='--', linewidth=4,\n",
    "           label='Length of Barack Obama', zorder=2)\n",
    "plt.axvline(x=wiki['length'][wiki.index[wiki['name'] == 'Joe Biden']].tolist()[0], color='g', linestyle='--', linewidth=4,\n",
    "           label='Length of Joe Biden', zorder=1)\n",
    "plt.axis([0, 1000, 0, 0.04])\n",
    "\n",
    "plt.legend(loc='best', prop={'size':15})\n",
    "plt.title('Distribution of document length')\n",
    "plt.xlabel('# of words')\n",
    "plt.ylabel('Percentage')\n",
    "plt.rcParams.update({'font.size':16})\n",
    "plt.tight_layout()"
   ]
  },
  {
   "cell_type": "code",
   "execution_count": 66,
   "metadata": {},
   "outputs": [
    {
     "name": "stdout",
     "output_type": "stream",
     "text": [
      "                          name  length  distance\n",
      "35817             Barack Obama     540  0.000000\n",
      "24478                Joe Biden     414  0.703139\n",
      "38376           Samantha Power     310  0.742982\n",
      "57108   Hillary Rodham Clinton     580  0.758358\n",
      "38714  Eric Stern (politician)     255  0.770561\n",
      "46140             Robert Gibbs     257  0.784678\n",
      "6796               Eric Holder     232  0.788039\n",
      "44681   Jesse Lee (politician)     216  0.790926\n",
      "18827             Henry Waxman     279  0.798323\n",
      "2412           Joe the Plumber     217  0.799466\n"
     ]
    }
   ],
   "source": [
    "model2_tf_idf = NearestNeighbors(algorithm='brute', metric='cosine')\n",
    "model2_tf_idf.fit(tf_idf)\n",
    "distances, indices = model2_tf_idf.kneighbors(tf_idf[35817], n_neighbors=100)\n",
    "neighbors = pd.DataFrame(data={'distance':distances.flatten()}, index=indices.flatten())\n",
    "nearest_neighbors_cosine = wiki.join(neighbors)[['name', 'length', 'distance']].sort_values(by='distance')\n",
    "print(nearest_neighbors_cosine.head(10))"
   ]
  },
  {
   "cell_type": "code",
   "execution_count": 67,
   "metadata": {},
   "outputs": [
    {
     "data": {
      "text/plain": [
       "<Figure size 756x324 with 0 Axes>"
      ]
     },
     "metadata": {},
     "output_type": "display_data"
    },
    {
     "data": {
      "image/png": "[encoded data removed]",
      "text/plain": [
       "<Figure size 756x324 with 1 Axes>"
      ]
     },
     "metadata": {
      "needs_background": "light"
     },
     "output_type": "display_data"
    }
   ],
   "source": [
    "plt.figure(figsize=(10.5,4.5))\n",
    "plt.figure(figsize=(10.5,4.5))\n",
    "plt.hist(wiki['length'], 50, color='k', edgecolor='None', histtype='stepfilled', density=True,\n",
    "         label='Entire Wikipedia', zorder=3, alpha=0.8)\n",
    "plt.hist(nearest_neighbors_euclidean['length'][:100], 50, color='r', edgecolor='None', histtype='stepfilled', density=True,\n",
    "         label='100 NNs of Obama (Euclidean)', zorder=10, alpha=0.8)\n",
    "plt.hist(nearest_neighbors_cosine['length'][:100], 50, color='b', edgecolor='None', histtype='stepfilled', density=True,\n",
    "         label='100 NNs of Obama (cosine)', zorder=11, alpha=0.8)\n",
    "plt.axvline(x=wiki['length'][wiki.index[wiki['name'] == 'Barack Obama']].tolist()[0], color='k', linestyle='--', linewidth=4,\n",
    "           label='Length of Barack Obama', zorder=2)\n",
    "plt.axvline(x=wiki['length'][wiki.index[wiki['name'] == 'Joe Biden']].tolist()[0], color='g', linestyle='--', linewidth=4,\n",
    "           label='Length of Joe Biden', zorder=1)\n",
    "plt.axis([0, 1000, 0, 0.04])\n",
    "plt.legend(loc='best', prop={'size':15})\n",
    "plt.title('Distribution of document length')\n",
    "plt.xlabel('# of words')\n",
    "plt.ylabel('Percentage')\n",
    "plt.rcParams.update({'font.size': 16})\n",
    "plt.tight_layout()"
   ]
  },
  {
   "cell_type": "code",
   "execution_count": 68,
   "metadata": {},
   "outputs": [],
   "source": [
    "tweet = {'act': 3.4597778278724887,\n",
    " 'control': 3.721765211295327,\n",
    " 'democratic': 3.1026721743330414,\n",
    " 'governments': 4.167571323949673,\n",
    " 'in': 0.0009654063501214492,\n",
    " 'law': 2.4538226269605703,\n",
    " 'popular': 2.764478952022998,\n",
    " 'response': 4.261461747058352,\n",
    " 'to': 0.04694493768179923}"
   ]
  },
  {
   "cell_type": "code",
   "execution_count": 69,
   "metadata": {},
   "outputs": [],
   "source": [
    "word_indices = []\n",
    "for word in tweet.keys():\n",
    "    if word in map_index_to_word.keys():\n",
    "        word_indices.append(map_index_to_word[word]  )\n",
    "\n",
    "tweet_tf_idf = csr_matrix( (list(tweet.values()), ([0]*len(word_indices), word_indices)),\n",
    "                          shape=(1, tf_idf.shape[1]) )"
   ]
  },
  {
   "cell_type": "code",
   "execution_count": 70,
   "metadata": {},
   "outputs": [
    {
     "name": "stdout",
     "output_type": "stream",
     "text": [
      "[[0.70591838]]\n"
     ]
    }
   ],
   "source": [
    "from sklearn.metrics.pairwise import cosine_distances\n",
    "\n",
    "obama_tf_idf = tf_idf[35817]\n",
    "print(cosine_distances(obama_tf_idf, tweet_tf_idf))"
   ]
  },
  {
   "cell_type": "code",
   "execution_count": 71,
   "metadata": {},
   "outputs": [
    {
     "name": "stdout",
     "output_type": "stream",
     "text": [
      "[[0.         0.70313868 0.7429819  0.7583584  0.77056123 0.7846775\n",
      "  0.78803907 0.79092642 0.7983226  0.79946636]]\n"
     ]
    }
   ],
   "source": [
    "distances, indices = model2_tf_idf.kneighbors(obama_tf_idf, n_neighbors=10)\n",
    "print(distances)"
   ]
  }
 ],
 "metadata": {
  "kernelspec": {
   "display_name": "Python 3",
   "language": "python",
   "name": "python3"
  },
  "language_info": {
   "codemirror_mode": {
    "name": "ipython",
    "version": 3
   },
   "file_extension": ".py",
   "mimetype": "text/x-python",
   "name": "python",
   "nbconvert_exporter": "python",
   "pygments_lexer": "ipython3",
   "version": "3.8.5"
  }
 },
 "nbformat": 4,
 "nbformat_minor": 4
}
